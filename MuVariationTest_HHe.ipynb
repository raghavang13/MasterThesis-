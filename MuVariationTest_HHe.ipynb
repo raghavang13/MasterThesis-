{
 "cells": [
  {
   "cell_type": "code",
   "execution_count": 1,
   "id": "d058f6f3-6e9d-4869-b17a-4b5c4f0ca80d",
   "metadata": {},
   "outputs": [
    {
     "name": "stderr",
     "output_type": "stream",
     "text": [
      "/home/raghav/.local/lib/python3.10/site-packages/matplotlib/projections/__init__.py:63: UserWarning: Unable to import Axes3D. This may be due to multiple versions of Matplotlib being installed (e.g. as a system package and as a pip package). As a result, the 3D projection is not available.\n",
      "  warnings.warn(\"Unable to import Axes3D. This may be due to multiple versions of \"\n",
      "/home/raghav/.local/lib/python3.10/site-packages/p_winds/tools.py:24: UserWarning: Environment variable PWINDS_REFSPEC_DIR is not set.\n",
      "  warn(\"Environment variable PWINDS_REFSPEC_DIR is not set.\")\n"
     ]
    }
   ],
   "source": [
    "import sys\n",
    "sys.path.append('/home/raghav/sunbather2/src/') #add your path to /sunbather/src/ here\n",
    "\n",
    "import tools\n",
    "import RT\n",
    "import construct_parker as cp\n",
    "\n",
    "import matplotlib.pyplot as plt\n",
    "import numpy as np"
   ]
  },
  {
   "cell_type": "code",
   "execution_count": 2,
   "id": "97bcb049-d2b1-4228-823b-8a596231e06c",
   "metadata": {},
   "outputs": [],
   "source": [
    "pprof = tools.read_parker('WASP52b',9200,11.300,'z_10')"
   ]
  },
  {
   "cell_type": "code",
   "execution_count": 3,
   "id": "7c6f13d0-182a-4bc9-af01-58c87e48e73f",
   "metadata": {},
   "outputs": [],
   "source": [
    "alt = pprof.alt.values\n",
    "rho = pprof.rho.values"
   ]
  },
  {
   "cell_type": "code",
   "execution_count": 4,
   "id": "24e1b6bd-28eb-4abf-b4e6-6b095f3dcad1",
   "metadata": {},
   "outputs": [
    {
     "data": {
      "text/plain": [
       "1000"
      ]
     },
     "execution_count": 4,
     "metadata": {},
     "output_type": "execute_result"
    }
   ],
   "source": [
    "rho.size"
   ]
  },
  {
   "cell_type": "code",
   "execution_count": 5,
   "id": "4338b2d9-0e7c-41d6-8195-67cca8c9c950",
   "metadata": {},
   "outputs": [],
   "source": [
    "basepath = \"/home/raghav/project_sb/sims/\"\n",
    "def atmabundance(filename):\n",
    "    depths = []\n",
    "    abund = []\n",
    "    flag = 0\n",
    "    with open(basepath+filename) as f:\n",
    "        for line in f:\n",
    "            words = line.split()\n",
    "            if(flag==1 and '#' not in words[0]):\n",
    "                if('end' in words):\n",
    "                    break\n",
    "                depths.append(float(words[0]))\n",
    "                abund.append(float(words[1]))\n",
    "            if (words[0] =='#' and 'abundance' in words):\n",
    "                next(f)\n",
    "                flag = 1\n",
    "    depth_array = np.array(depths)\n",
    "    abund_array = np.array(abund)\n",
    "    xp = depth_array[1:]\n",
    "    fp = abund_array[1:]\n",
    "    x = np.linspace(depth_array[1],depth_array[-1],1000)\n",
    "    y = np.interp(x,xp,fp)\n",
    "    #ticks_array = xp\n",
    "    return x,y,xp,fp\n"
   ]
  },
  {
   "cell_type": "code",
   "execution_count": 6,
   "id": "940958f3-c11b-46c7-a399-59c8626ff8b8",
   "metadata": {},
   "outputs": [],
   "source": [
    "def get_abundances(zdict=None):\n",
    "    \"\"\"\n",
    "    Returns a dictionary of the fractional abundances of each element (sums to 1).\n",
    "\n",
    "    Parameters\n",
    "    ----------\n",
    "    zdict : dict, optional\n",
    "        Dictionary with the scale factors of all elements relative\n",
    "        to a solar composition. Can be easily created with get_zdict().\n",
    "        Default is None, which results in a solar composition.\n",
    "\n",
    "    Returns\n",
    "    -------\n",
    "    abundances : dict\n",
    "        Dictionary with the abundances of all elements, expressed as a fraction of the total.\n",
    "    \"\"\"\n",
    "\n",
    "    #solar abundance relative to hydrogen (Hazy table 7.1):\n",
    "    rel_abundances = {'H':1., 'He':0.1, 'Li':2.04e-9, 'Be':2.63e-11, 'B':6.17e-10,\n",
    "    'C':2.45e-4, 'N':8.51e-5, 'O':4.9e-4, 'F':3.02e-8, 'Ne':1e-4,\n",
    "    'Na':2.14e-6, 'Mg':3.47e-5, 'Al':2.95e-6, 'Si':3.47e-5, 'P':3.2e-7,\n",
    "    'S':1.84e-5, 'Cl':1.91e-7, 'Ar':2.51e-6, 'K':1.32e-7, 'Ca':2.29e-6,\n",
    "    'Sc':1.48e-9, 'Ti':1.05e-7, 'V':1e-8, 'Cr':4.68e-7, 'Mn':2.88e-7,\n",
    "    'Fe':2.82e-5, 'Co':8.32e-8, 'Ni':1.78e-6, 'Cu':1.62e-8, 'Zn':3.98e-8}\n",
    "\n",
    "    if zdict != None:\n",
    "        assert 'H' not in zdict.keys(), \"You cannot scale hydrogen, scale everything else instead.\"\n",
    "        for element in zdict.keys():\n",
    "            rel_abundances[element] *= zdict[element]\n",
    "\n",
    "    total = sum(list(rel_abundances.values()))\n",
    "    abundances = {k: v / total for k, v in rel_abundances.items()}\n",
    "\n",
    "    return abundances"
   ]
  },
  {
   "cell_type": "code",
   "execution_count": 7,
   "id": "97ed7461-2cff-4ce4-8171-cb105c2cb002",
   "metadata": {},
   "outputs": [],
   "source": [
    "W52sim = tools.Sim(tools.projectpath+'/sims/1D/WASP52b/z_10_Mg10/parker_9200_11.300/converged')"
   ]
  },
  {
   "cell_type": "code",
   "execution_count": 8,
   "id": "7efd1255-2c96-42dd-b92a-c4c532fc2117",
   "metadata": {},
   "outputs": [
    {
     "data": {
      "text/plain": [
       "{'H': 0.8979743332728762,\n",
       " 'He': 0.08979743332728762,\n",
       " 'Li': 1.8318676398766677e-08,\n",
       " 'Be': 2.3616724965076644e-10,\n",
       " 'B': 5.540501636293646e-09,\n",
       " 'C': 0.0022000371165185467,\n",
       " 'N': 0.0007641761576152176,\n",
       " 'O': 0.0044000742330370934,\n",
       " 'F': 2.711882486484086e-07,\n",
       " 'Ne': 0.0008979743332728763,\n",
       " 'Na': 1.921665073203955e-05,\n",
       " 'Mg': 0.003115970936456881,\n",
       " 'Al': 2.649024283154985e-05,\n",
       " 'Si': 0.0003115970936456881,\n",
       " 'P': 2.8735178664732038e-06,\n",
       " 'S': 0.00016522727732220922,\n",
       " 'Cl': 1.7151309765511936e-06,\n",
       " 'Ar': 2.2539155765149194e-05,\n",
       " 'K': 1.1853261199201966e-06,\n",
       " 'Ca': 2.0563612231948867e-05,\n",
       " 'Sc': 1.3290020132438568e-08,\n",
       " 'Ti': 9.428730499365201e-07,\n",
       " 'V': 8.979743332728762e-08,\n",
       " 'Cr': 4.202519879717061e-06,\n",
       " 'Mn': 2.5861660798258836e-06,\n",
       " 'Fe': 0.0002532287619829511,\n",
       " 'Co': 7.471146452830331e-07,\n",
       " 'Ni': 1.5983943132257197e-05,\n",
       " 'Cu': 1.4547184199020595e-07,\n",
       " 'Zn': 3.5739378464260474e-07}"
      ]
     },
     "execution_count": 8,
     "metadata": {},
     "output_type": "execute_result"
    }
   ],
   "source": [
    "W52sim.abundances"
   ]
  },
  {
   "cell_type": "code",
   "execution_count": 9,
   "id": "b48182dc-c556-4235-9288-15100ea3d2f0",
   "metadata": {},
   "outputs": [
    {
     "data": {
      "text/plain": [
       "{'H': 0.9082244154709177,\n",
       " 'He': 0.09082244154709178,\n",
       " 'Li': 1.8527778075606721e-09,\n",
       " 'Be': 2.3886302126885133e-11,\n",
       " 'B': 5.603744643455562e-10,\n",
       " 'C': 0.00022251498179037482,\n",
       " 'N': 7.728989775657509e-05,\n",
       " 'O': 0.00044502996358074964,\n",
       " 'F': 2.742837734722171e-08,\n",
       " 'Ne': 9.082244154709177e-05,\n",
       " 'Na': 1.9436002491077636e-06,\n",
       " 'Mg': 3.1515387216840845e-05,\n",
       " 'Al': 2.679262025639207e-06,\n",
       " 'Si': 3.1515387216840845e-05,\n",
       " 'P': 2.9063181295069364e-07,\n",
       " 'S': 1.6711329244664884e-05,\n",
       " 'Cl': 1.7347086335494528e-07,\n",
       " 'Ar': 2.2796432828320035e-06,\n",
       " 'K': 1.1988562284216113e-07,\n",
       " 'Ca': 2.0798339114284016e-06,\n",
       " 'Sc': 1.3441721348969581e-09,\n",
       " 'Ti': 9.536356362444636e-08,\n",
       " 'V': 9.082244154709176e-09,\n",
       " 'Cr': 4.250490264403895e-07,\n",
       " 'Mn': 2.615686316556243e-07,\n",
       " 'Fe': 2.561192851627988e-05,\n",
       " 'Co': 7.556427136718036e-08,\n",
       " 'Ni': 1.6166394595382333e-06,\n",
       " 'Cu': 1.4713235530628867e-08,\n",
       " 'Zn': 3.614733173574252e-08}"
      ]
     },
     "execution_count": 9,
     "metadata": {},
     "output_type": "execute_result"
    }
   ],
   "source": [
    "tools.get_abundances()"
   ]
  },
  {
   "cell_type": "code",
   "execution_count": 10,
   "id": "67d27659-c4be-42bb-aea9-82742b242629",
   "metadata": {},
   "outputs": [],
   "source": [
    "W52ovr = tools.process_overview(tools.projectpath+'/sims/1D/WASP52b/z_10_Mg10/parker_9200_11.300/converged.ovr')"
   ]
  },
  {
   "cell_type": "code",
   "execution_count": 11,
   "id": "32c45b91-3589-48c3-b0cd-ca19059c4bf9",
   "metadata": {},
   "outputs": [
    {
     "data": {
      "text/plain": [
       "0      0.602626\n",
       "1      0.602626\n",
       "2      0.602626\n",
       "3      0.602626\n",
       "4      0.602626\n",
       "         ...   \n",
       "261    0.652157\n",
       "262    0.653324\n",
       "263    0.655039\n",
       "264    0.656554\n",
       "265    0.657003\n",
       "Name: mu, Length: 266, dtype: float64"
      ]
     },
     "execution_count": 11,
     "metadata": {},
     "output_type": "execute_result"
    }
   ],
   "source": [
    "W52ovr['mu']"
   ]
  },
  {
   "cell_type": "code",
   "execution_count": 12,
   "id": "52354be2-8ff0-47e6-b077-dcc0c5792937",
   "metadata": {},
   "outputs": [
    {
     "data": {
      "text/html": [
       "<div>\n",
       "<style scoped>\n",
       "    .dataframe tbody tr th:only-of-type {\n",
       "        vertical-align: middle;\n",
       "    }\n",
       "\n",
       "    .dataframe tbody tr th {\n",
       "        vertical-align: top;\n",
       "    }\n",
       "\n",
       "    .dataframe thead th {\n",
       "        text-align: right;\n",
       "    }\n",
       "</style>\n",
       "<table border=\"1\" class=\"dataframe\">\n",
       "  <thead>\n",
       "    <tr style=\"text-align: right;\">\n",
       "      <th></th>\n",
       "      <th>depth</th>\n",
       "      <th>Te</th>\n",
       "      <th>Htot</th>\n",
       "      <th>hden</th>\n",
       "      <th>eden</th>\n",
       "      <th>2H_2/H</th>\n",
       "      <th>HI</th>\n",
       "      <th>HII</th>\n",
       "      <th>HeI</th>\n",
       "      <th>HeII</th>\n",
       "      <th>...</th>\n",
       "      <th>O3</th>\n",
       "      <th>O4</th>\n",
       "      <th>O5</th>\n",
       "      <th>O6</th>\n",
       "      <th>H2O/O</th>\n",
       "      <th>AV(point)</th>\n",
       "      <th>AV(extend)</th>\n",
       "      <th>Tau912</th>\n",
       "      <th>rho</th>\n",
       "      <th>mu</th>\n",
       "    </tr>\n",
       "  </thead>\n",
       "  <tbody>\n",
       "    <tr>\n",
       "      <th>0</th>\n",
       "      <td>2.500000e-01</td>\n",
       "      <td>1138.6</td>\n",
       "      <td>7.573000e-12</td>\n",
       "      <td>193080.0</td>\n",
       "      <td>240870.0</td>\n",
       "      <td>1.636000e-20</td>\n",
       "      <td>0.000138</td>\n",
       "      <td>0.99986</td>\n",
       "      <td>0.000013</td>\n",
       "      <td>0.033229</td>\n",
       "      <td>...</td>\n",
       "      <td>0.025906</td>\n",
       "      <td>0.530820</td>\n",
       "      <td>0.335820</td>\n",
       "      <td>9.740200e-02</td>\n",
       "      <td>1.175500e-36</td>\n",
       "      <td>0.0</td>\n",
       "      <td>0.0</td>\n",
       "      <td>8.402400e-17</td>\n",
       "      <td>4.575056e-19</td>\n",
       "      <td>0.602626</td>\n",
       "    </tr>\n",
       "    <tr>\n",
       "      <th>1</th>\n",
       "      <td>1.500000e+00</td>\n",
       "      <td>1138.6</td>\n",
       "      <td>7.573000e-12</td>\n",
       "      <td>193080.0</td>\n",
       "      <td>240870.0</td>\n",
       "      <td>1.636000e-20</td>\n",
       "      <td>0.000138</td>\n",
       "      <td>0.99986</td>\n",
       "      <td>0.000013</td>\n",
       "      <td>0.033229</td>\n",
       "      <td>...</td>\n",
       "      <td>0.025906</td>\n",
       "      <td>0.530820</td>\n",
       "      <td>0.335820</td>\n",
       "      <td>9.740200e-02</td>\n",
       "      <td>1.175500e-36</td>\n",
       "      <td>0.0</td>\n",
       "      <td>0.0</td>\n",
       "      <td>4.201200e-16</td>\n",
       "      <td>4.575056e-19</td>\n",
       "      <td>0.602626</td>\n",
       "    </tr>\n",
       "    <tr>\n",
       "      <th>2</th>\n",
       "      <td>6.500000e+00</td>\n",
       "      <td>1138.6</td>\n",
       "      <td>7.573000e-12</td>\n",
       "      <td>193080.0</td>\n",
       "      <td>240870.0</td>\n",
       "      <td>1.636000e-20</td>\n",
       "      <td>0.000138</td>\n",
       "      <td>0.99986</td>\n",
       "      <td>0.000013</td>\n",
       "      <td>0.033229</td>\n",
       "      <td>...</td>\n",
       "      <td>0.025906</td>\n",
       "      <td>0.530820</td>\n",
       "      <td>0.335820</td>\n",
       "      <td>9.740200e-02</td>\n",
       "      <td>1.175500e-36</td>\n",
       "      <td>0.0</td>\n",
       "      <td>0.0</td>\n",
       "      <td>1.764500e-15</td>\n",
       "      <td>4.575056e-19</td>\n",
       "      <td>0.602626</td>\n",
       "    </tr>\n",
       "    <tr>\n",
       "      <th>3</th>\n",
       "      <td>2.650000e+01</td>\n",
       "      <td>1138.6</td>\n",
       "      <td>7.573000e-12</td>\n",
       "      <td>193080.0</td>\n",
       "      <td>240870.0</td>\n",
       "      <td>1.636000e-20</td>\n",
       "      <td>0.000138</td>\n",
       "      <td>0.99986</td>\n",
       "      <td>0.000013</td>\n",
       "      <td>0.033229</td>\n",
       "      <td>...</td>\n",
       "      <td>0.025906</td>\n",
       "      <td>0.530820</td>\n",
       "      <td>0.335820</td>\n",
       "      <td>9.740200e-02</td>\n",
       "      <td>1.175500e-36</td>\n",
       "      <td>0.0</td>\n",
       "      <td>0.0</td>\n",
       "      <td>7.142100e-15</td>\n",
       "      <td>4.575056e-19</td>\n",
       "      <td>0.602626</td>\n",
       "    </tr>\n",
       "    <tr>\n",
       "      <th>4</th>\n",
       "      <td>6.330000e+01</td>\n",
       "      <td>1138.6</td>\n",
       "      <td>7.573000e-12</td>\n",
       "      <td>193080.0</td>\n",
       "      <td>240870.0</td>\n",
       "      <td>1.636000e-20</td>\n",
       "      <td>0.000138</td>\n",
       "      <td>0.99986</td>\n",
       "      <td>0.000013</td>\n",
       "      <td>0.033229</td>\n",
       "      <td>...</td>\n",
       "      <td>0.025906</td>\n",
       "      <td>0.530820</td>\n",
       "      <td>0.335820</td>\n",
       "      <td>9.740200e-02</td>\n",
       "      <td>1.175500e-36</td>\n",
       "      <td>0.0</td>\n",
       "      <td>0.0</td>\n",
       "      <td>1.413300e-14</td>\n",
       "      <td>4.575056e-19</td>\n",
       "      <td>0.602626</td>\n",
       "    </tr>\n",
       "    <tr>\n",
       "      <th>...</th>\n",
       "      <td>...</td>\n",
       "      <td>...</td>\n",
       "      <td>...</td>\n",
       "      <td>...</td>\n",
       "      <td>...</td>\n",
       "      <td>...</td>\n",
       "      <td>...</td>\n",
       "      <td>...</td>\n",
       "      <td>...</td>\n",
       "      <td>...</td>\n",
       "      <td>...</td>\n",
       "      <td>...</td>\n",
       "      <td>...</td>\n",
       "      <td>...</td>\n",
       "      <td>...</td>\n",
       "      <td>...</td>\n",
       "      <td>...</td>\n",
       "      <td>...</td>\n",
       "      <td>...</td>\n",
       "      <td>...</td>\n",
       "      <td>...</td>\n",
       "    </tr>\n",
       "    <tr>\n",
       "      <th>261</th>\n",
       "      <td>6.287610e+10</td>\n",
       "      <td>6014.1</td>\n",
       "      <td>2.305000e-07</td>\n",
       "      <td>197780000.0</td>\n",
       "      <td>211450000.0</td>\n",
       "      <td>8.032800e-14</td>\n",
       "      <td>0.036033</td>\n",
       "      <td>0.96397</td>\n",
       "      <td>0.116330</td>\n",
       "      <td>0.804210</td>\n",
       "      <td>...</td>\n",
       "      <td>0.183280</td>\n",
       "      <td>0.001252</td>\n",
       "      <td>0.000011</td>\n",
       "      <td>1.175500e-36</td>\n",
       "      <td>7.565600e-27</td>\n",
       "      <td>0.0</td>\n",
       "      <td>0.0</td>\n",
       "      <td>5.589300e-02</td>\n",
       "      <td>4.686423e-16</td>\n",
       "      <td>0.652157</td>\n",
       "    </tr>\n",
       "    <tr>\n",
       "      <th>262</th>\n",
       "      <td>6.301250e+10</td>\n",
       "      <td>5992.0</td>\n",
       "      <td>2.561000e-07</td>\n",
       "      <td>210910000.0</td>\n",
       "      <td>224670000.0</td>\n",
       "      <td>9.783400e-14</td>\n",
       "      <td>0.038338</td>\n",
       "      <td>0.96166</td>\n",
       "      <td>0.124140</td>\n",
       "      <td>0.801670</td>\n",
       "      <td>...</td>\n",
       "      <td>0.165820</td>\n",
       "      <td>0.001004</td>\n",
       "      <td>0.000009</td>\n",
       "      <td>1.175500e-36</td>\n",
       "      <td>1.005500e-26</td>\n",
       "      <td>0.0</td>\n",
       "      <td>0.0</td>\n",
       "      <td>6.183700e-02</td>\n",
       "      <td>4.997540e-16</td>\n",
       "      <td>0.653324</td>\n",
       "    </tr>\n",
       "    <tr>\n",
       "      <th>263</th>\n",
       "      <td>6.314590e+10</td>\n",
       "      <td>5964.1</td>\n",
       "      <td>2.951000e-07</td>\n",
       "      <td>229820000.0</td>\n",
       "      <td>243510000.0</td>\n",
       "      <td>1.249800e-13</td>\n",
       "      <td>0.041743</td>\n",
       "      <td>0.95826</td>\n",
       "      <td>0.135130</td>\n",
       "      <td>0.797290</td>\n",
       "      <td>...</td>\n",
       "      <td>0.144550</td>\n",
       "      <td>0.000743</td>\n",
       "      <td>0.000007</td>\n",
       "      <td>1.175500e-36</td>\n",
       "      <td>1.476300e-26</td>\n",
       "      <td>0.0</td>\n",
       "      <td>0.0</td>\n",
       "      <td>7.100600e-02</td>\n",
       "      <td>5.445615e-16</td>\n",
       "      <td>0.655039</td>\n",
       "    </tr>\n",
       "    <tr>\n",
       "      <th>264</th>\n",
       "      <td>6.327830e+10</td>\n",
       "      <td>5942.4</td>\n",
       "      <td>3.289000e-07</td>\n",
       "      <td>245690000.0</td>\n",
       "      <td>259100000.0</td>\n",
       "      <td>1.516200e-13</td>\n",
       "      <td>0.044482</td>\n",
       "      <td>0.95552</td>\n",
       "      <td>0.144130</td>\n",
       "      <td>0.793030</td>\n",
       "      <td>...</td>\n",
       "      <td>0.129490</td>\n",
       "      <td>0.000588</td>\n",
       "      <td>0.000006</td>\n",
       "      <td>1.175500e-36</td>\n",
       "      <td>1.970500e-26</td>\n",
       "      <td>0.0</td>\n",
       "      <td>0.0</td>\n",
       "      <td>7.891100e-02</td>\n",
       "      <td>5.821657e-16</td>\n",
       "      <td>0.656554</td>\n",
       "    </tr>\n",
       "    <tr>\n",
       "      <th>265</th>\n",
       "      <td>6.339580e+10</td>\n",
       "      <td>5916.9</td>\n",
       "      <td>3.713000e-07</td>\n",
       "      <td>264170000.0</td>\n",
       "      <td>278200000.0</td>\n",
       "      <td>1.863300e-13</td>\n",
       "      <td>0.047937</td>\n",
       "      <td>0.95206</td>\n",
       "      <td>0.154980</td>\n",
       "      <td>0.787330</td>\n",
       "      <td>...</td>\n",
       "      <td>0.114240</td>\n",
       "      <td>0.000450</td>\n",
       "      <td>0.000004</td>\n",
       "      <td>1.175500e-36</td>\n",
       "      <td>2.755000e-26</td>\n",
       "      <td>0.0</td>\n",
       "      <td>0.0</td>\n",
       "      <td>8.861800e-02</td>\n",
       "      <td>6.259543e-16</td>\n",
       "      <td>0.657003</td>\n",
       "    </tr>\n",
       "  </tbody>\n",
       "</table>\n",
       "<p>266 rows × 28 columns</p>\n",
       "</div>"
      ],
      "text/plain": [
       "            depth      Te          Htot         hden         eden  \\\n",
       "0    2.500000e-01  1138.6  7.573000e-12     193080.0     240870.0   \n",
       "1    1.500000e+00  1138.6  7.573000e-12     193080.0     240870.0   \n",
       "2    6.500000e+00  1138.6  7.573000e-12     193080.0     240870.0   \n",
       "3    2.650000e+01  1138.6  7.573000e-12     193080.0     240870.0   \n",
       "4    6.330000e+01  1138.6  7.573000e-12     193080.0     240870.0   \n",
       "..            ...     ...           ...          ...          ...   \n",
       "261  6.287610e+10  6014.1  2.305000e-07  197780000.0  211450000.0   \n",
       "262  6.301250e+10  5992.0  2.561000e-07  210910000.0  224670000.0   \n",
       "263  6.314590e+10  5964.1  2.951000e-07  229820000.0  243510000.0   \n",
       "264  6.327830e+10  5942.4  3.289000e-07  245690000.0  259100000.0   \n",
       "265  6.339580e+10  5916.9  3.713000e-07  264170000.0  278200000.0   \n",
       "\n",
       "           2H_2/H        HI      HII       HeI      HeII  ...        O3  \\\n",
       "0    1.636000e-20  0.000138  0.99986  0.000013  0.033229  ...  0.025906   \n",
       "1    1.636000e-20  0.000138  0.99986  0.000013  0.033229  ...  0.025906   \n",
       "2    1.636000e-20  0.000138  0.99986  0.000013  0.033229  ...  0.025906   \n",
       "3    1.636000e-20  0.000138  0.99986  0.000013  0.033229  ...  0.025906   \n",
       "4    1.636000e-20  0.000138  0.99986  0.000013  0.033229  ...  0.025906   \n",
       "..            ...       ...      ...       ...       ...  ...       ...   \n",
       "261  8.032800e-14  0.036033  0.96397  0.116330  0.804210  ...  0.183280   \n",
       "262  9.783400e-14  0.038338  0.96166  0.124140  0.801670  ...  0.165820   \n",
       "263  1.249800e-13  0.041743  0.95826  0.135130  0.797290  ...  0.144550   \n",
       "264  1.516200e-13  0.044482  0.95552  0.144130  0.793030  ...  0.129490   \n",
       "265  1.863300e-13  0.047937  0.95206  0.154980  0.787330  ...  0.114240   \n",
       "\n",
       "           O4        O5            O6         H2O/O  AV(point)  AV(extend)  \\\n",
       "0    0.530820  0.335820  9.740200e-02  1.175500e-36        0.0         0.0   \n",
       "1    0.530820  0.335820  9.740200e-02  1.175500e-36        0.0         0.0   \n",
       "2    0.530820  0.335820  9.740200e-02  1.175500e-36        0.0         0.0   \n",
       "3    0.530820  0.335820  9.740200e-02  1.175500e-36        0.0         0.0   \n",
       "4    0.530820  0.335820  9.740200e-02  1.175500e-36        0.0         0.0   \n",
       "..        ...       ...           ...           ...        ...         ...   \n",
       "261  0.001252  0.000011  1.175500e-36  7.565600e-27        0.0         0.0   \n",
       "262  0.001004  0.000009  1.175500e-36  1.005500e-26        0.0         0.0   \n",
       "263  0.000743  0.000007  1.175500e-36  1.476300e-26        0.0         0.0   \n",
       "264  0.000588  0.000006  1.175500e-36  1.970500e-26        0.0         0.0   \n",
       "265  0.000450  0.000004  1.175500e-36  2.755000e-26        0.0         0.0   \n",
       "\n",
       "           Tau912           rho        mu  \n",
       "0    8.402400e-17  4.575056e-19  0.602626  \n",
       "1    4.201200e-16  4.575056e-19  0.602626  \n",
       "2    1.764500e-15  4.575056e-19  0.602626  \n",
       "3    7.142100e-15  4.575056e-19  0.602626  \n",
       "4    1.413300e-14  4.575056e-19  0.602626  \n",
       "..            ...           ...       ...  \n",
       "261  5.589300e-02  4.686423e-16  0.652157  \n",
       "262  6.183700e-02  4.997540e-16  0.653324  \n",
       "263  7.100600e-02  5.445615e-16  0.655039  \n",
       "264  7.891100e-02  5.821657e-16  0.656554  \n",
       "265  8.861800e-02  6.259543e-16  0.657003  \n",
       "\n",
       "[266 rows x 28 columns]"
      ]
     },
     "execution_count": 12,
     "metadata": {},
     "output_type": "execute_result"
    }
   ],
   "source": [
    "W52ovr"
   ]
  },
  {
   "cell_type": "code",
   "execution_count": 13,
   "id": "7d20330a-f35b-47ed-b531-b0a7c3137c94",
   "metadata": {},
   "outputs": [
    {
     "data": {
      "image/png": "[encoded data removed]",
      "text/plain": [
       "<Figure size 640x480 with 1 Axes>"
      ]
     },
     "metadata": {},
     "output_type": "display_data"
    }
   ],
   "source": [
    "plt.plot(W52ovr['depth'],W52ovr['eden'])\n",
    "plt.show()"
   ]
  },
  {
   "cell_type": "code",
   "execution_count": 14,
   "id": "5babf36d-1893-4a43-bb8f-0bf00e1f4554",
   "metadata": {},
   "outputs": [
    {
     "data": {
      "image/png": "[encoded data removed]",
      "text/plain": [
       "<Figure size 640x480 with 1 Axes>"
      ]
     },
     "metadata": {},
     "output_type": "display_data"
    }
   ],
   "source": [
    "plt.scatter(W52ovr['depth'],W52ovr['mu'])\n",
    "plt.show()"
   ]
  },
  {
   "cell_type": "code",
   "execution_count": 15,
   "id": "82eb7de6-21ef-424c-9002-10cb29566a70",
   "metadata": {},
   "outputs": [],
   "source": [
    "planet = tools.Planet('WASP52b')"
   ]
  },
  {
   "cell_type": "code",
   "execution_count": 16,
   "id": "0b7144cf-03d2-4793-870f-0beb4600f741",
   "metadata": {},
   "outputs": [
    {
     "name": "stdout",
     "output_type": "stream",
     "text": [
      "Name: WASP52b\n",
      "Full name: WASP-52 b\n",
      "Planet radius: 9065185600.0 cm, 1.268 RJ\n",
      "Star radius: 55010860000.0 cm, 0.79 Rsun\n",
      "Semi-major axis: 406906209120.0 cm, 0.0272 AU\n",
      "Planet mass: 8.7308e+29 g, 0.46 MJ\n",
      "Star mass: 1.730517e+33 g, 0.8700000000000001 Msun\n",
      "Transit impact parameter: 0.598 Rstar\n",
      "Stellar spectrum name: eps_Eri_binned.spec\n",
      "Roche radius: 22456406973.288425 cm, 3.141107672647069 RJ, 2.4772142528762373 Rp\n",
      "log10(Gravitational potential): 12.808083063192056 log10(erg/g)\n",
      "Orbital velocity semi-amplitude: 16852066.56104894 cm/s, 168.5206656104894 km/s\n"
     ]
    }
   ],
   "source": [
    "planet.print_params()"
   ]
  },
  {
   "cell_type": "code",
   "execution_count": 17,
   "id": "80eb5748-28f5-4a30-ac02-9209403b1abb",
   "metadata": {},
   "outputs": [
    {
     "data": {
      "text/plain": [
       "8"
      ]
     },
     "execution_count": 17,
     "metadata": {},
     "output_type": "execute_result"
    }
   ],
   "source": [
    "W52sim.altmax"
   ]
  },
  {
   "cell_type": "code",
   "execution_count": 18,
   "id": "e1991ce9-ee87-42b8-87fb-107fd27c7a1e",
   "metadata": {},
   "outputs": [],
   "source": [
    "W52x,W52y,W52xp,W52fp = atmabundance('1D/WASP52b/z_10_Mg10/Mg10_fractest_2/converged.in')"
   ]
  },
  {
   "cell_type": "code",
   "execution_count": 19,
   "id": "d16a037b-bc2d-4b22-b931-2e1bf5dd28f9",
   "metadata": {},
   "outputs": [],
   "source": [
    "hden = tools.rho_to_hden(pprof.rho.values, abundances=tools.get_abundances())\n",
    "dlaw = tools.alt_array_to_Cloudy(alt, hden, 8, planet.R, 1000, log=True)\n"
   ]
  },
  {
   "cell_type": "code",
   "execution_count": 20,
   "id": "d00dacc7-239d-44d9-9649-d7460b422ad2",
   "metadata": {},
   "outputs": [
    {
     "data": {
      "text/plain": [
       "array([[-35.        ,   5.35384085],\n",
       "       [ -1.9435928 ,   5.35384085],\n",
       "       [ -1.8871856 ,   5.35384085],\n",
       "       ...,\n",
       "       [ 10.80215084,   8.47757054],\n",
       "       [ 10.80231303,   8.48376846],\n",
       "       [ 10.80247474,   8.48997876]])"
      ]
     },
     "execution_count": 20,
     "metadata": {},
     "output_type": "execute_result"
    }
   ],
   "source": [
    "dlaw"
   ]
  },
  {
   "cell_type": "code",
   "execution_count": 21,
   "id": "92dfc572-631e-4e04-8e0a-98dd36076fbb",
   "metadata": {},
   "outputs": [
    {
     "data": {
      "text/plain": [
       "1000"
      ]
     },
     "execution_count": 21,
     "metadata": {},
     "output_type": "execute_result"
    }
   ],
   "source": [
    "hden.size"
   ]
  },
  {
   "cell_type": "code",
   "execution_count": 22,
   "id": "45972d3f-c01b-4628-8612-8043f1f08e81",
   "metadata": {},
   "outputs": [
    {
     "data": {
      "text/plain": [
       "1000"
      ]
     },
     "execution_count": 22,
     "metadata": {},
     "output_type": "execute_result"
    }
   ],
   "source": [
    "alt.size"
   ]
  },
  {
   "cell_type": "code",
   "execution_count": 23,
   "id": "d11ac636-208b-429b-93e5-7505bd57e33f",
   "metadata": {},
   "outputs": [
    {
     "data": {
      "text/plain": [
       "array([[ 9.06518560e+09,  7.32213792e-16,  2.63875355e+05,\n",
       "         7.08902929e-01, -4.40071160e-25],\n",
       "       [ 9.09241045e+09,  7.20232919e-16,  2.66660754e+05,\n",
       "         7.10511152e-01, -4.35224128e-25],\n",
       "       [ 9.11971707e+09,  7.08481175e-16,  2.69462969e+05,\n",
       "         7.12124205e-01, -4.25633489e-25],\n",
       "       ...,\n",
       "       [ 1.80219604e+11,  3.67573639e-20,  1.32996960e+07,\n",
       "         6.64058355e-01, -6.03980926e-31],\n",
       "       [ 1.80760845e+11,  3.64324019e-20,  1.33380888e+07,\n",
       "         6.63983483e-01, -5.96874398e-31],\n",
       "       [ 1.81303712e+11,  3.61102991e-20,  1.33765975e+07,\n",
       "         6.63922287e-01, -5.93336829e-31]])"
      ]
     },
     "execution_count": 23,
     "metadata": {},
     "output_type": "execute_result"
    }
   ],
   "source": [
    "pprof.values"
   ]
  },
  {
   "cell_type": "code",
   "execution_count": 24,
   "id": "7e918c87-91b6-4042-93be-bb08e4a79823",
   "metadata": {},
   "outputs": [
    {
     "data": {
      "text/html": [
       "<div>\n",
       "<style scoped>\n",
       "    .dataframe tbody tr th:only-of-type {\n",
       "        vertical-align: middle;\n",
       "    }\n",
       "\n",
       "    .dataframe tbody tr th {\n",
       "        vertical-align: top;\n",
       "    }\n",
       "\n",
       "    .dataframe thead th {\n",
       "        text-align: right;\n",
       "    }\n",
       "</style>\n",
       "<table border=\"1\" class=\"dataframe\">\n",
       "  <thead>\n",
       "    <tr style=\"text-align: right;\">\n",
       "      <th></th>\n",
       "      <th>alt</th>\n",
       "      <th>rho</th>\n",
       "      <th>v</th>\n",
       "      <th>mu</th>\n",
       "      <th>drhodr</th>\n",
       "    </tr>\n",
       "  </thead>\n",
       "  <tbody>\n",
       "    <tr>\n",
       "      <th>0</th>\n",
       "      <td>9.065186e+09</td>\n",
       "      <td>7.322138e-16</td>\n",
       "      <td>2.638754e+05</td>\n",
       "      <td>0.708903</td>\n",
       "      <td>-4.400712e-25</td>\n",
       "    </tr>\n",
       "    <tr>\n",
       "      <th>1</th>\n",
       "      <td>9.092410e+09</td>\n",
       "      <td>7.202329e-16</td>\n",
       "      <td>2.666608e+05</td>\n",
       "      <td>0.710511</td>\n",
       "      <td>-4.352241e-25</td>\n",
       "    </tr>\n",
       "    <tr>\n",
       "      <th>2</th>\n",
       "      <td>9.119717e+09</td>\n",
       "      <td>7.084812e-16</td>\n",
       "      <td>2.694630e+05</td>\n",
       "      <td>0.712124</td>\n",
       "      <td>-4.256335e-25</td>\n",
       "    </tr>\n",
       "    <tr>\n",
       "      <th>3</th>\n",
       "      <td>9.147106e+09</td>\n",
       "      <td>6.969536e-16</td>\n",
       "      <td>2.722820e+05</td>\n",
       "      <td>0.713742</td>\n",
       "      <td>-4.162760e-25</td>\n",
       "    </tr>\n",
       "    <tr>\n",
       "      <th>4</th>\n",
       "      <td>9.174577e+09</td>\n",
       "      <td>6.856452e-16</td>\n",
       "      <td>2.751178e+05</td>\n",
       "      <td>0.714083</td>\n",
       "      <td>-4.071456e-25</td>\n",
       "    </tr>\n",
       "    <tr>\n",
       "      <th>...</th>\n",
       "      <td>...</td>\n",
       "      <td>...</td>\n",
       "      <td>...</td>\n",
       "      <td>...</td>\n",
       "      <td>...</td>\n",
       "    </tr>\n",
       "    <tr>\n",
       "      <th>995</th>\n",
       "      <td>1.791420e+11</td>\n",
       "      <td>3.741597e-20</td>\n",
       "      <td>1.322326e+07</td>\n",
       "      <td>0.664198</td>\n",
       "      <td>-6.184480e-31</td>\n",
       "    </tr>\n",
       "    <tr>\n",
       "      <th>996</th>\n",
       "      <td>1.796800e+11</td>\n",
       "      <td>3.708521e-20</td>\n",
       "      <td>1.326142e+07</td>\n",
       "      <td>0.664131</td>\n",
       "      <td>-6.111718e-31</td>\n",
       "    </tr>\n",
       "    <tr>\n",
       "      <th>997</th>\n",
       "      <td>1.802196e+11</td>\n",
       "      <td>3.675736e-20</td>\n",
       "      <td>1.329970e+07</td>\n",
       "      <td>0.664058</td>\n",
       "      <td>-6.039809e-31</td>\n",
       "    </tr>\n",
       "    <tr>\n",
       "      <th>998</th>\n",
       "      <td>1.807608e+11</td>\n",
       "      <td>3.643240e-20</td>\n",
       "      <td>1.333809e+07</td>\n",
       "      <td>0.663983</td>\n",
       "      <td>-5.968744e-31</td>\n",
       "    </tr>\n",
       "    <tr>\n",
       "      <th>999</th>\n",
       "      <td>1.813037e+11</td>\n",
       "      <td>3.611030e-20</td>\n",
       "      <td>1.337660e+07</td>\n",
       "      <td>0.663922</td>\n",
       "      <td>-5.933368e-31</td>\n",
       "    </tr>\n",
       "  </tbody>\n",
       "</table>\n",
       "<p>1000 rows × 5 columns</p>\n",
       "</div>"
      ],
      "text/plain": [
       "              alt           rho             v        mu        drhodr\n",
       "0    9.065186e+09  7.322138e-16  2.638754e+05  0.708903 -4.400712e-25\n",
       "1    9.092410e+09  7.202329e-16  2.666608e+05  0.710511 -4.352241e-25\n",
       "2    9.119717e+09  7.084812e-16  2.694630e+05  0.712124 -4.256335e-25\n",
       "3    9.147106e+09  6.969536e-16  2.722820e+05  0.713742 -4.162760e-25\n",
       "4    9.174577e+09  6.856452e-16  2.751178e+05  0.714083 -4.071456e-25\n",
       "..            ...           ...           ...       ...           ...\n",
       "995  1.791420e+11  3.741597e-20  1.322326e+07  0.664198 -6.184480e-31\n",
       "996  1.796800e+11  3.708521e-20  1.326142e+07  0.664131 -6.111718e-31\n",
       "997  1.802196e+11  3.675736e-20  1.329970e+07  0.664058 -6.039809e-31\n",
       "998  1.807608e+11  3.643240e-20  1.333809e+07  0.663983 -5.968744e-31\n",
       "999  1.813037e+11  3.611030e-20  1.337660e+07  0.663922 -5.933368e-31\n",
       "\n",
       "[1000 rows x 5 columns]"
      ]
     },
     "execution_count": 24,
     "metadata": {},
     "output_type": "execute_result"
    }
   ],
   "source": [
    "pprof"
   ]
  },
  {
   "cell_type": "code",
   "execution_count": 25,
   "id": "5097e57b-675b-4a74-b26d-f5f6f2a20ddf",
   "metadata": {},
   "outputs": [],
   "source": [
    "def mu_HHe(Hefrac):\n",
    "    '''\n",
    "    This function takes an array of Helium abundances varying with radius and calculates the mean molecular weight. It assumes 0 ionization.\n",
    "    The input parameter is temporary, it will probably be different after I incorporate crossover mass. The array should be something like [1.0e-10, 1.019e-10, 1.023e-10,......,1,9.8e-02,1.0e-01] \n",
    "    but can also be descending order\n",
    "    '''\n",
    "    h_fraction = 1-Hefrac\n",
    "    he_h_fraction = Hefrac / h_fraction\n",
    "    mean_f_ion = 0.0\n",
    "    mu_array = (1 + 4*he_h_fraction)/(1 + he_h_fraction + mean_f_ion)\n",
    "\n",
    "    mu_0 = np.mean(mu_array)\n",
    "    return mu_0"
   ]
  },
  {
   "cell_type": "code",
   "execution_count": 26,
   "id": "5a2f17f7-ad04-497a-9e8f-2cc40cd60e3b",
   "metadata": {},
   "outputs": [],
   "source": [
    "def muarray(Hefrac,f_r):\n",
    "    '''\n",
    "    This function takes an array of Helium abundances varying with altitude and the fraction of ionized hydrogen with planetary radius, and returns array of mean molecular weights with altitude.\n",
    "    It assumes no Helium ionization. The input parameter Hefrac is temporary, it will probably be different after I incorporate crossover mass. The array should be something like [1.0e-10, 1.019e-10, 1.023e-10,......,1,9.8e-02,1.0e-01] \n",
    "    but can also be descending order\n",
    "    '''\n",
    "    h_fraction = 1-Hefrac\n",
    "    mu_array = ((1-h_fraction)*4.0 + h_fraction)/(h_fraction*(1+f_r)+(1-h_fraction))\n",
    "    return mu_array"
   ]
  },
  {
   "cell_type": "code",
   "execution_count": 27,
   "id": "4a247286-f06e-48be-9466-231a55f0ed21",
   "metadata": {},
   "outputs": [],
   "source": [
    "x1,y1,xp1,fp1 = atmabundance('HeDepthTest_5100_10.950/converged.in')\n",
    "mu_0 = mu_HHe(10**y1)"
   ]
  },
  {
   "cell_type": "code",
   "execution_count": 28,
   "id": "d2e895f2-7bcf-4566-bff1-27bf24b07d05",
   "metadata": {},
   "outputs": [
    {
     "data": {
      "text/plain": [
       "1.0179010180958206"
      ]
     },
     "execution_count": 28,
     "metadata": {},
     "output_type": "execute_result"
    }
   ],
   "source": [
    "mu_0"
   ]
  },
  {
   "cell_type": "code",
   "execution_count": 29,
   "id": "940d8f0c-bea2-4ed4-a9f1-7db0a11ce6ac",
   "metadata": {},
   "outputs": [
    {
     "name": "stdout",
     "output_type": "stream",
     "text": [
      "Parker wind profile done: /home/raghav/project_sb/parker_profiles/hotNeptune/test1/pprof_hotNeptune_T=5100_M=10.900.txt\n"
     ]
    }
   ],
   "source": [
    "planet1 = tools.Planet('hotNeptune')\n",
    "spec = cp.cloudy_spec_to_pwinds(tools.cloudypath+'data/SED/'+planet1.SEDname, 1., (planet1.a - 20*planet1.R)/tools.AU)\n",
    "f_r_test = cp.save_plain_parker_profile(planet1,10.9,5100,spec,h_fraction=0.9,pdir='test1',overwrite=True)"
   ]
  },
  {
   "cell_type": "code",
   "execution_count": 30,
   "id": "3f2b1ce1-dc07-4c80-ac77-32f9c4200605",
   "metadata": {},
   "outputs": [],
   "source": [
    "pprof_hotNep = tools.read_parker('hotNeptune',5100,10.900,'test1')\n",
    "original_muarray = pprof_hotNep.mu.values\n",
    "hotNep_altarray = pprof_hotNep.alt.values"
   ]
  },
  {
   "cell_type": "code",
   "execution_count": 31,
   "id": "0637a9af-840b-4330-b0c7-6447f3acce97",
   "metadata": {},
   "outputs": [],
   "source": [
    "y1rev = np.flip(y1)"
   ]
  },
  {
   "cell_type": "code",
   "execution_count": 32,
   "id": "bd541a5c-fc97-445e-ad48-725965c68daf",
   "metadata": {},
   "outputs": [],
   "source": [
    "frac_muarray = muarray(10**y1rev,f_r_test)"
   ]
  },
  {
   "cell_type": "code",
   "execution_count": 33,
   "id": "eb73b673-c48b-4fda-877b-628183da5051",
   "metadata": {},
   "outputs": [
    {
     "data": {
      "image/png": "[encoded data removed]",
      "text/plain": [
       "<Figure size 640x480 with 1 Axes>"
      ]
     },
     "metadata": {},
     "output_type": "display_data"
    }
   ],
   "source": [
    "plt.plot(hotNep_altarray,original_muarray,color='red',label = 'original')\n",
    "plt.plot(hotNep_altarray,frac_muarray,color='blue', label = 'fractionated')\n",
    "plt.legend()\n",
    "plt.ylabel('Mean Molecular Weight (amu)')\n",
    "plt.xlabel('Altitude (cm)')\n",
    "plt.show()\n"
   ]
  },
  {
   "cell_type": "code",
   "execution_count": 12,
   "id": "fc9058d5-6dc9-42b2-8be3-79f29db5c185",
   "metadata": {},
   "outputs": [],
   "source": [
    "WASPplanet = tools.Planet('WASP52b')\n",
    "pprof_WASP52 = tools.read_parker('WASP52b',9200,11.300,'z_1')\n",
    "WASP52_altarray = pprof_WASP52.alt.values"
   ]
  }
 ],
 "metadata": {
  "kernelspec": {
   "display_name": "Python 3 (ipykernel)",
   "language": "python",
   "name": "python3"
  },
  "language_info": {
   "codemirror_mode": {
    "name": "ipython",
    "version": 3
   },
   "file_extension": ".py",
   "mimetype": "text/x-python",
   "name": "python",
   "nbconvert_exporter": "python",
   "pygments_lexer": "ipython3",
   "version": "3.10.12"
  }
 },
 "nbformat": 4,
 "nbformat_minor": 5
}
