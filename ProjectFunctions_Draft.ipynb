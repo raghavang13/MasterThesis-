{
 "cells": [
  {
   "cell_type": "markdown",
   "id": "c70a16ba-d7d0-4986-9932-dd64ee921ab8",
   "metadata": {},
   "source": [
    "**This contains functions that will probably be used for my thesis and added to sunbather. These are drafts of the functions, not the final form**"
   ]
  },
  {
   "cell_type": "markdown",
   "id": "0ea25c6a-7f75-4d0c-afe2-5c8eb84a57c5",
   "metadata": {},
   "source": [
    "**For Construct_parker**"
   ]
  },
  {
   "cell_type": "code",
   "execution_count": 1,
   "id": "faa32a98-a00d-40dc-b03d-b5674827a380",
   "metadata": {},
   "outputs": [],
   "source": [
    "def mu_HHe(Hefrac):\n",
    "    '''\n",
    "    This function takes an array of Helium abundances varying with radius and calculates the mean molecular weight. It assumes 0 ionization.\n",
    "    The input parameter is temporary, it will probably be different after I incorporate crossover mass. The array should be something like [1.0e-10, 1.019e-10, 1.023e-10,......,1,9.8e-02,1.0e-01] \n",
    "    but can also be descending order.\n",
    "    Only one value is returned here, not the value at each radius. mu_0 has to be a float for the pwinds_hydrogen.ion_fraction function.\n",
    "    '''\n",
    "    h_fraction = 1-Hefrac\n",
    "    he_h_fraction = Hefrac / h_fraction\n",
    "    mean_f_ion = 0.0\n",
    "    mu_array = (1 + 4*he_h_fraction)/(1 + he_h_fraction + mean_f_ion)\n",
    "\n",
    "    mu_0 = np.mean(mu_array)\n",
    "    return mu_0"
   ]
  },
  {
   "cell_type": "code",
   "execution_count": 2,
   "id": "d32e575e-2423-4e36-b82b-e198002023f1",
   "metadata": {},
   "outputs": [],
   "source": [
    "def muarray_HHe(Hefrac,f_r):\n",
    "    '''\n",
    "    This function takes an array of Helium abundances varying with altitude and the fraction of ionized hydrogen with planetary radius, and returns array of mean molecular weights \n",
    "    with altitude. It assumes no Helium ionization. The input parameter Hefrac is temporary, it will probably be different after I incorporate crossover mass. The array should be \n",
    "    something like [1.0e-10, 1.019e-10, 1.023e-10,......,1,9.8e-02,1.0e-01] but can also be descending order\n",
    "    '''\n",
    "    h_fraction = 1-Hefrac\n",
    "    mu_array = ((1-h_fraction)*4.0 + h_fraction)/(h_fraction*(1+f_r)+(1-h_fraction))\n",
    "    return mu_array"
   ]
  },
  {
   "cell_type": "code",
   "execution_count": 3,
   "id": "330db296-0f22-4a30-9c89-cf141a1cbbb5",
   "metadata": {},
   "outputs": [],
   "source": [
    "def find_fracelements(cmass):\n",
    "    '''\n",
    "    This returns a list of all the elements that are heavier than the crossover mass, i.e. elements that would not \n",
    "    be lifted into upper atm\n",
    "    '''\n",
    "    mass_dict = {'H':1.6735575e-24, 'He':6.646477e-24, 'Li':1.15e-23, 'Be':1.4965082e-23,\n",
    "            'B':1.795e-23, 'C':1.9945e-23, 'N':2.3259e-23, 'O':2.6567e-23,\n",
    "            'F':3.1547e-23, 'Ne':3.35092e-23, 'Na':3.817541e-23, 'Mg':4.0359e-23,\n",
    "            'Al':4.48038988e-23, 'Si':4.6636e-23, 'P':5.14331418e-23, 'S':5.324e-23,\n",
    "            'Cl':5.887e-23, 'Ar':6.6335e-23, 'K':6.49243e-23, 'Ca':6.6551e-23,\n",
    "            'Sc':7.4651042e-23, 'Ti':7.9485e-23, 'V':8.45904e-23, 'Cr':8.63416e-23,\n",
    "            'Mn':9.1226768e-23, 'Fe':9.2733e-23, 'Co':9.786087e-23, 'Ni':9.74627e-23,\n",
    "            'Cu':1.0552e-22, 'Zn':1.086e-22}\n",
    "    #https://stackoverflow.com/questions/18807079/selecting-elements-of-a-python-dictionary-greater-than-a-certain-value\n",
    "    \n",
    "    frac_list = list(k for k, v in mass_dict.items() if v > cmass)     \n",
    "    return frac_list"
   ]
  },
  {
   "cell_type": "code",
   "execution_count": 4,
   "id": "ddcca66e-6944-4f0a-ba66-68f4be1802fc",
   "metadata": {},
   "outputs": [],
   "source": [
    "#This function will probably not be used\n",
    "def create_profile(ele,altarray):\n",
    "    '''\n",
    "    Temporary method to create abundance profile for fractionated elements. I am arbitrarily assuming that the abundance drops by \n",
    "    3 orders of magnitude over 1 Rp, then drops to 1e-40 by 8Rp.\n",
    "    '''\n",
    "    zdict = tools.get_abundances()\n",
    "    totalele = len(altarray)\n",
    "    ini_abundance = np.log10(zdict[ele])\n",
    "    inter_abundance = ini_abundance-3 #abundance assumed to go down by 3 orders of magnitude over 1 Rp\n",
    "    rp2 = altarray[0]*2\n",
    "    elenum = np.argwhere(altarray>rp2)[0]\n",
    "    abunarray1 = np.logspace(ini_abundance,inter_abundance,elenum.item())\n",
    "    rem_elenum = totalele - elenum.item()\n",
    "    abunarray2 = np.logspace(inter_abundance,-40,rem_elenum+1)\n",
    "    abundance_array = np.concatenate((abunarray1,abunarray2[1:]))\n",
    "    return abundance_array"
   ]
  },
  {
   "cell_type": "code",
   "execution_count": 5,
   "id": "d2f5ca96-a2aa-4459-8117-f864caaa267d",
   "metadata": {},
   "outputs": [],
   "source": [
    "def abunprofile(ele,altarray,plawindex=-2):\n",
    "    '''\n",
    "    This creates a power law abundance profile for one element. Default value of power-law index is -2 for now, to be decided later.\n",
    "    The profile looks like a(r) = a_0 * r^plawindex where r is altitude in planetary radius units. \n",
    "    '''\n",
    "    zdict = tools.get_abundances() \n",
    "    ini_abundance = zdict[ele]\n",
    "    radarray = altarray/altarray[0] #Distance array normalized with planetary radius\n",
    "    abunarray = ini_abundance*(radarray**plawindex)\n",
    "    return abunarray"
   ]
  },
  {
   "cell_type": "code",
   "execution_count": 6,
   "id": "f7d39546-0535-4420-933e-99352195ae0c",
   "metadata": {},
   "outputs": [],
   "source": [
    "def create_zdicts(fraclist,altarray):\n",
    "    '''\n",
    "    This function takes the elements that are fractionated and creates a list of dictionaries corresponding to abundances at \n",
    "    different altitudes. Profile is the variation of abundance (number not mass) with altitude, assumed to be same for all elements that are fractionated.\n",
    "    '''\n",
    "    frac_abundances = []\n",
    "    #This loop gets the absolute (not relative to hydrogen) number (not mass) abundance profile for each fractionated element\n",
    "    for ele in fraclist:\n",
    "        frac_abundances.append(create_profile(ele,altarray))\n",
    "    zdictlist = []\n",
    "    #This loop creates a list of dictionaries. \n",
    "    for i in range(len(altarray)):\n",
    "        zelemdict = dict((ele,abun[i]) for (ele,abun) in zip(fraclist,frac_abundances)) \n",
    "        #This gets abundance of each fractionated element relative to solar at a particular altitude and stores in a dictionary\n",
    "        #This dictionary serves as the zelem argument\n",
    "        zdictlist.append(get_zdict(zelem=zelemdict))\n",
    "    return zdictlist"
   ]
  },
  {
   "cell_type": "code",
   "execution_count": 7,
   "id": "0df067f6-1d17-42b5-b3f5-6ad31c5b9ead",
   "metadata": {},
   "outputs": [],
   "source": [
    "def calc_fracmubar(zdictlist):\n",
    "    '''\n",
    "    This function gets the initial neutral average mean molecular weight for a fractionated atmosphere.\n",
    "    It returns both the mean molecular weight across the entire atmosphere, as well as the mean molecular weight varying with\n",
    "    altitude.\n",
    "    '''\n",
    "    mulist = []\n",
    "    for zdict in zdictlist:\n",
    "        mulist.append(calc_neutral_mu(zdict))\n",
    "    frac_mubar = np.mean(mulist)\n",
    "    return frac_mubar, mulist"
   ]
  }
 ],
 "metadata": {
  "kernelspec": {
   "display_name": "Python 3 (ipykernel)",
   "language": "python",
   "name": "python3"
  },
  "language_info": {
   "codemirror_mode": {
    "name": "ipython",
    "version": 3
   },
   "file_extension": ".py",
   "mimetype": "text/x-python",
   "name": "python",
   "nbconvert_exporter": "python",
   "pygments_lexer": "ipython3",
   "version": "3.10.12"
  }
 },
 "nbformat": 4,
 "nbformat_minor": 5
}
