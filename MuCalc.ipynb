{
 "cells": [
  {
   "cell_type": "code",
   "execution_count": 1,
   "id": "a8be582d-33e2-4dd8-bd7f-dca5c4b0c6aa",
   "metadata": {},
   "outputs": [
    {
     "name": "stderr",
     "output_type": "stream",
     "text": [
      "/home/raghav/.local/lib/python3.10/site-packages/matplotlib/projections/__init__.py:63: UserWarning: Unable to import Axes3D. This may be due to multiple versions of Matplotlib being installed (e.g. as a system package and as a pip package). As a result, the 3D projection is not available.\n",
      "  warnings.warn(\"Unable to import Axes3D. This may be due to multiple versions of \"\n",
      "/home/raghav/.local/lib/python3.10/site-packages/p_winds/tools.py:24: UserWarning: Environment variable PWINDS_REFSPEC_DIR is not set.\n",
      "  warn(\"Environment variable PWINDS_REFSPEC_DIR is not set.\")\n"
     ]
    }
   ],
   "source": [
    "import sys\n",
    "sys.path.append('/home/raghav/sunbather2/src/') #add your path to /sunbather/src/ here\n",
    "\n",
    "import tools\n",
    "import RT\n",
    "import construct_parker as cp\n",
    "\n",
    "import matplotlib.pyplot as plt\n",
    "import numpy as np"
   ]
  },
  {
   "cell_type": "code",
   "execution_count": 2,
   "id": "65102451-cd80-4316-8659-85f703afc8f8",
   "metadata": {},
   "outputs": [],
   "source": [
    "basepath = \"/home/raghav/project_sb/sims/\"\n",
    "def atmabundance(filename):\n",
    "    depths = []\n",
    "    abund = []\n",
    "    flag = 0\n",
    "    with open(basepath+filename) as f:\n",
    "        for line in f:\n",
    "            words = line.split()\n",
    "            if(flag==1 and '#' not in words[0]):\n",
    "                if('end' in words):\n",
    "                    break\n",
    "                depths.append(float(words[0]))\n",
    "                abund.append(float(words[1]))\n",
    "            if (words[0] =='#' and 'abundance' in words):\n",
    "                next(f)\n",
    "                flag = 1\n",
    "    depth_array = np.array(depths)\n",
    "    abund_array = np.array(abund)\n",
    "    xp = depth_array[1:]\n",
    "    fp = abund_array[1:]\n",
    "    x = np.linspace(depth_array[1],depth_array[-1],1000)\n",
    "    y = np.interp(x,xp,fp)\n",
    "    #ticks_array = xp\n",
    "    return x,y,xp,fp\n"
   ]
  },
  {
   "cell_type": "code",
   "execution_count": 3,
   "id": "5097e57b-675b-4a74-b26d-f5f6f2a20ddf",
   "metadata": {},
   "outputs": [],
   "source": [
    "def mu_HHe(Hefrac):\n",
    "    '''\n",
    "    This function takes an array of Helium abundances varying with radius and calculates the mean molecular weight. It assumes 0 ionization.\n",
    "    The input parameter is temporary, it will probably be different after I incorporate crossover mass. The array should be something like [1.0e-10, 1.019e-10, 1.023e-10,......,1,9.8e-02,1.0e-01] \n",
    "    but can also be descending order\n",
    "    '''\n",
    "    h_fraction = 1-Hefrac\n",
    "    he_h_fraction = Hefrac / h_fraction\n",
    "    mean_f_ion = 0.0\n",
    "    mu_array = (1 + 4*he_h_fraction)/(1 + he_h_fraction + mean_f_ion)\n",
    "\n",
    "    mu_0 = np.mean(mu_array)\n",
    "    return mu_0"
   ]
  },
  {
   "cell_type": "code",
   "execution_count": 4,
   "id": "6ec81361-e92e-4e01-914c-0aad0d05cab7",
   "metadata": {},
   "outputs": [],
   "source": [
    "def muarray_HHe(Hefrac,f_r=0.0):\n",
    "    '''\n",
    "    This function takes an array of Helium abundances varying with altitude and the fraction of ionized hydrogen with planetary radius, and returns array of mean molecular weights with altitude.\n",
    "    It assumes no Helium ionization. The input parameter Hefrac is temporary, it will probably be different after I incorporate crossover mass. The array should be something like [1.0e-10, 1.019e-10, 1.023e-10,......,1,9.8e-02,1.0e-01] \n",
    "    but can also be descending order\n",
    "    '''\n",
    "    h_fraction = 1-Hefrac\n",
    "    mu_array = ((1-h_fraction)*4.0 + h_fraction)/(h_fraction*(1+f_r)+(1-h_fraction))\n",
    "    return mu_array"
   ]
  },
  {
   "cell_type": "code",
   "execution_count": 5,
   "id": "e0dab104-1a3f-404c-b73e-efa3e793c0f4",
   "metadata": {},
   "outputs": [],
   "source": [
    "# def create_profile(ele,altarray):\n",
    "#     '''\n",
    "#     Temporary method to create abundance profile for fractionated elements. I am arbitrarily assuming that the abundance drops by 3 orders of magnitude over 1 Rp, \n",
    "#     then drops to 1e-15 by 8Rp.\n",
    "#     '''\n",
    "#     zdict = tools.get_abundances()\n",
    "#     totalele = len(altarray)\n",
    "#     ini_abundance = np.log10(zdict[ele])\n",
    "#     inter_abundance = ini_abundance-3 #abundance assumed to go down by 3 orders of magnitude over 1 Rp\n",
    "#     rp2 = altarray[0]*2\n",
    "#     elenum = np.argwhere(altarray>rp2)[0]\n",
    "#     abunarray1 = np.logspace(ini_abundance,inter_abundance,elenum.item())\n",
    "#     rem_elenum = totalele - elenum.item()\n",
    "#     abunarray2 = np.logspace(inter_abundance,-15,rem_elenum+1)\n",
    "#     abundance_array = np.concatenate((abunarray1,abunarray2[1:]))\n",
    "#     return abundance_array"
   ]
  },
  {
   "cell_type": "code",
   "execution_count": 6,
   "id": "da5265bc-0363-47fd-905f-4745439d3cca",
   "metadata": {
    "editable": true,
    "slideshow": {
     "slide_type": ""
    },
    "tags": []
   },
   "outputs": [],
   "source": [
    "def abunprofile(ele,altarray,plawindex=-2):\n",
    "    zdict = tools.get_abundances()\n",
    "    ini_abundance = zdict[ele]\n",
    "    radarray = altarray/altarray[0]\n",
    "    abunarray = ini_abundance*(radarray**plawindex)\n",
    "    Clabunarray = tools.alt_array_to_Cloudy(altarray,abunarray,8,altarray[0],1000,log=True)\n",
    "    return Clabunarray"
   ]
  },
  {
   "cell_type": "code",
   "execution_count": 7,
   "id": "60e03065-780f-4687-94e0-c54a7e95d343",
   "metadata": {},
   "outputs": [],
   "source": [
    "def find_fracelements(cmass):\n",
    "    mass_dict = {'H':1.6735575e-24, 'He':6.646477e-24, 'Li':1.15e-23, 'Be':1.4965082e-23,\n",
    "            'B':1.795e-23, 'C':1.9945e-23, 'N':2.3259e-23, 'O':2.6567e-23,\n",
    "            'F':3.1547e-23, 'Ne':3.35092e-23, 'Na':3.817541e-23, 'Mg':4.0359e-23,\n",
    "            'Al':4.48038988e-23, 'Si':4.6636e-23, 'P':5.14331418e-23, 'S':5.324e-23,\n",
    "            'Cl':5.887e-23, 'Ar':6.6335e-23, 'K':6.49243e-23, 'Ca':6.6551e-23,\n",
    "            'Sc':7.4651042e-23, 'Ti':7.9485e-23, 'V':8.45904e-23, 'Cr':8.63416e-23,\n",
    "            'Mn':9.1226768e-23, 'Fe':9.2733e-23, 'Co':9.786087e-23, 'Ni':9.74627e-23,\n",
    "            'Cu':1.0552e-22, 'Zn':1.086e-22}\n",
    "    #https://stackoverflow.com/questions/18807079/selecting-elements-of-a-python-dictionary-greater-than-a-certain-value\n",
    "    #This gets all the elements that are heavier than the crossover mass, i.e. elements that would not be lifted into upper atm\n",
    "    frac_list = list(k for k, v in mass_dict.items() if v > cmass)     \n",
    "    return frac_list"
   ]
  },
  {
   "cell_type": "code",
   "execution_count": 8,
   "id": "60121f51-3f66-4d2c-afd1-8b8edff9eeb8",
   "metadata": {},
   "outputs": [],
   "source": [
    "def create_zdicts(fraclist,altarray,plawindex=-2):\n",
    "    '''\n",
    "    This function takes the elements that are fractionated and creates a list of dictionaries corresponding to abundances at different altitudes.\n",
    "    altarray is currently taken from a parker profile i.e. construct_parker run, and may need to be defined alternatively.\n",
    "    '''\n",
    "    frac_abundances = []\n",
    "    #This loop gets the absolute (not relative to hydrogen) number (not mass) abundance profile for each fractionated element\n",
    "    for ele in fraclist:\n",
    "        #frac_abundances.append(create_profile(ele,altarray))\n",
    "        abundance_profile = abunprofile(ele,altarray,plawindex)\n",
    "        frac_abundances.append(10**abundance_profile[:,1])\n",
    "    zdictlist = []\n",
    "    for i in range(len(abundance_profile[:,0])):\n",
    "        zelemdict = dict((ele,abun[i]) for (ele,abun) in zip(fraclist,frac_abundances)) \n",
    "        #This gets abundance of each fractionated element relative to solar at a particular altitude and stores in a dictionary\n",
    "        #This dictionary serves as the zelem argument for get_zdict\n",
    "        zdictlist.append(tools.get_zdict(zelem=zelemdict)) #This now has an abundance dictionary at each altitude\n",
    "    return zdictlist"
   ]
  },
  {
   "cell_type": "code",
   "execution_count": 9,
   "id": "423acd53-0b47-41de-9dc8-6a48706dc328",
   "metadata": {},
   "outputs": [],
   "source": [
    "def calc_fracmubar(zdictlist):\n",
    "    '''\n",
    "    This function gets the initial neutral average mean molecular weight for a fractionated atmosphere.\n",
    "    It returns both the mean molecular weight across the entire atmosphere, as well as the mean molecular weight varying with\n",
    "    altitude.\n",
    "    '''\n",
    "    mulist = []\n",
    "    for zdict in zdictlist:\n",
    "        mulist.append(cp.calc_neutral_mu(zdict))\n",
    "    frac_mubar = np.mean(mulist)\n",
    "    return frac_mubar, mulist"
   ]
  },
  {
   "cell_type": "code",
   "execution_count": 10,
   "id": "ae0ec94d-ce0e-4d75-b76d-4747d86fec8c",
   "metadata": {},
   "outputs": [],
   "source": [
    "def create_zarraydict(fraclist,abunproflist):\n",
    "    '''\n",
    "    Creates a single dictionary with the abundance profile arrays for fractionated elements as keys, instead of a list of dictionaries like create_zdicts\n",
    "    fraclist- list of elements being fractionated\n",
    "    abunproflist - corresponding abundance profiles, created using abunprofile\n",
    "    '''\n",
    "    zelemdict = dict((fraclist[i],abunproflist[i]) for i in range(len(fraclist)))\n",
    "    zarraydict = tools.get_zdict(zelem = zelemdict)\n",
    "    return zarraydict"
   ]
  },
  {
   "cell_type": "code",
   "execution_count": 11,
   "id": "a33fe228-0094-4d2b-90ee-422a09f5a1df",
   "metadata": {},
   "outputs": [],
   "source": [
    "def write_abundancelaws(simname,zdict=None,alaw=None): \n",
    "    with open(simname+\".in\",\"w\") as f:\n",
    "        f.write(\"# ======== Abundance laws ==========\")\n",
    "        for ele,prof in zdict.items():\n",
    "            if type(prof) is np.ndarray:\n",
    "                elename = tools.element_names[ele]\n",
    "                alaw = tools.remove_duplicates(prof,\"1.7f\")\n",
    "                f.write(\"\\n# ======= \" + elename + \" abundance law ======\") \n",
    "                f.write(\"\\nelement \" + elename + \" table depth\\n\")\n",
    "                np.savetxt(f, alaw, fmt='%1.7f')\n",
    "                f.write('{:.7f}'.format(alaw[-1,0]+0.1)+\n",
    "                        ' '+'{:.7f}'.format(alaw[-1,1]))             \n",
    "                f.write(\"\\nend of table\")"
   ]
  },
  {
   "cell_type": "markdown",
   "id": "4d053627-381c-4d11-b5b9-dcffdd46e0ca",
   "metadata": {},
   "source": [
    "**Fractionation in Hydrogen/Helium Atmosphere of generic hot Neptune**"
   ]
  },
  {
   "cell_type": "code",
   "execution_count": 12,
   "id": "acae4159-0772-46e3-a4a8-25666e0e26b2",
   "metadata": {},
   "outputs": [
    {
     "name": "stdout",
     "output_type": "stream",
     "text": [
      "Parker wind profile done: /home/raghav/project_sb/parker_profiles/hotNeptune/test1/pprof_hotNeptune_T=5100_M=10.900.txt\n"
     ]
    }
   ],
   "source": [
    "hotNep = tools.Planet('hotNeptune')\n",
    "spec = cp.cloudy_spec_to_pwinds(tools.cloudypath+'data/SED/'+hotNep.SEDname, 1., (hotNep.a - 20*hotNep.R)/tools.AU)\n",
    "cp.save_plain_parker_profile(hotNep,10.9,5100,spec,h_fraction=0.9,pdir='test1',overwrite=True)"
   ]
  },
  {
   "cell_type": "code",
   "execution_count": 13,
   "id": "3f2b1ce1-dc07-4c80-ac77-32f9c4200605",
   "metadata": {},
   "outputs": [],
   "source": [
    "pprof_hotNep = tools.read_parker('hotNeptune',5100,10.900,'test1')\n",
    "original_muarray = pprof_hotNep.mu.values\n",
    "hotNep_altarray = pprof_hotNep.alt.values"
   ]
  },
  {
   "cell_type": "markdown",
   "id": "e8c9f0d6-7c05-4843-b277-f80c91e71455",
   "metadata": {},
   "source": [
    "**Fractionation in atmosphere with metals (WASP52b)**"
   ]
  },
  {
   "cell_type": "code",
   "execution_count": 14,
   "id": "46eb47eb-8b99-4c6b-9a9d-3b92108b5606",
   "metadata": {},
   "outputs": [],
   "source": [
    "WASPplanet = tools.Planet('WASP52b')\n",
    "pprof_WASP52 = tools.read_parker('WASP52b',9200,11.300,'z_1')\n",
    "WASP52_altarray = pprof_WASP52.alt.values"
   ]
  },
  {
   "cell_type": "code",
   "execution_count": 15,
   "id": "5e099e8d-f677-4ca4-8fd5-79a7d882e0c3",
   "metadata": {},
   "outputs": [],
   "source": [
    "altitudearray = WASPplanet.R * np.logspace(0,np.log10(20),1000)\n",
    "mgprof = abunprofile('Mg',altitudearray,-5)"
   ]
  },
  {
   "cell_type": "code",
   "execution_count": 16,
   "id": "8a5fccfa-c400-44ee-b719-c712523bf142",
   "metadata": {},
   "outputs": [
    {
     "data": {
      "image/png": "[encoded data removed]",
      "text/plain": [
       "<Figure size 640x480 with 1 Axes>"
      ]
     },
     "metadata": {},
     "output_type": "display_data"
    }
   ],
   "source": [
    "mgproffig = plt.figure()\n",
    "#plt.plot(altitudearray,mgprof)\n",
    "plt.plot(10**mgprof[:,0],10**mgprof[:,1])\n",
    "plt.xlim(1e8,1e11)\n",
    "for i in range(1,9):\n",
    "    plt.axvline(i*WASPplanet.R,linestyle='dotted')\n",
    "    plt.text(i*WASPplanet.R,1e-5,f\"{i}Rp\",rotation=90)\n",
    "plt.xscale('log')\n",
    "plt.yscale('log')\n",
    "plt.ylabel('Mg abundance')\n",
    "plt.xlabel('Distance from center of planet (cm)')\n",
    "plt.show()"
   ]
  },
  {
   "cell_type": "code",
   "execution_count": 17,
   "id": "f385c90e-144b-42f0-8313-5ee6e9f141df",
   "metadata": {},
   "outputs": [
    {
     "name": "stdout",
     "output_type": "stream",
     "text": [
      "1.2845141962603062\n"
     ]
    }
   ],
   "source": [
    "Mgfracdictlists = create_zdicts(['Mg'],altitudearray)\n",
    "mgfrac_mubar,mgfrac_muvar = calc_fracmubar(Mgfracdictlists)\n",
    "print(mgfrac_mubar)"
   ]
  },
  {
   "cell_type": "code",
   "execution_count": 18,
   "id": "f36d6898-23f8-452e-be4e-1c45c92463db",
   "metadata": {
    "editable": true,
    "slideshow": {
     "slide_type": ""
    },
    "tags": []
   },
   "outputs": [
    {
     "data": {
      "image/png": "[encoded data removed]",
      "text/plain": [
       "<Figure size 640x480 with 1 Axes>"
      ]
     },
     "metadata": {},
     "output_type": "display_data"
    }
   ],
   "source": [
    "heprof = abunprofile('He',altitudearray,-4)\n",
    "heproffig = plt.figure()\n",
    "#plt.plot(altitudearray,heprof)\n",
    "plt.plot(10**heprof[:,0],10**heprof[:,1])\n",
    "plt.xlim(1e8,1e11)\n",
    "for i in range(1,9):\n",
    "    plt.axvline(i*WASPplanet.R,linestyle='dotted')\n",
    "    plt.text(i*WASPplanet.R,4e-2,f\"{i}Rp\",rotation=90)\n",
    "plt.xscale('log')\n",
    "plt.yscale('log')\n",
    "plt.ylabel('He abundance')\n",
    "plt.xlabel('Distance from center of planet (cm)')\n",
    "plt.show()"
   ]
  },
  {
   "cell_type": "code",
   "execution_count": 19,
   "id": "924cd0ee-1c87-46f4-af59-e1778d2e17e1",
   "metadata": {},
   "outputs": [
    {
     "name": "stdout",
     "output_type": "stream",
     "text": [
      "1.0195990848162253\n"
     ]
    }
   ],
   "source": [
    "hefracdictlists = create_zdicts(['He'],altitudearray,-4)\n",
    "hefrac_mubar,hefrac_muvar = calc_fracmubar(hefracdictlists)\n",
    "print(hefrac_mubar)"
   ]
  },
  {
   "cell_type": "code",
   "execution_count": 20,
   "id": "587ee530-248d-46c4-9a6a-d20f5fcc92de",
   "metadata": {
    "editable": true,
    "slideshow": {
     "slide_type": ""
    },
    "tags": []
   },
   "outputs": [
    {
     "name": "stdout",
     "output_type": "stream",
     "text": [
      "1.0221854983720762\n"
     ]
    }
   ],
   "source": [
    "multifracdictlists = create_zdicts(['He','Li','F'],altitudearray)\n",
    "mfrac_mubar,mfrac_muvar = calc_fracmubar(multifracdictlists)\n",
    "print(mfrac_mubar)"
   ]
  },
  {
   "cell_type": "code",
   "execution_count": 21,
   "id": "63cfc8e8-2a89-4067-8e66-464aed5ec6d1",
   "metadata": {
    "editable": true,
    "slideshow": {
     "slide_type": ""
    },
    "tags": []
   },
   "outputs": [],
   "source": [
    "mgheprofdict = create_zarraydict(['He','Mg'],[heprof,mgprof])"
   ]
  },
  {
   "cell_type": "code",
   "execution_count": 22,
   "id": "ed6bd5d1-5b2c-405d-93bf-f58fe0b0ae15",
   "metadata": {},
   "outputs": [
    {
     "name": "stdout",
     "output_type": "stream",
     "text": [
      "He\n",
      "Mg\n"
     ]
    }
   ],
   "source": [
    "for ele,prof in mgheprofdict.items():\n",
    "    if(type(prof) is np.ndarray):\n",
    "        print(ele)\n",
    "        "
   ]
  },
  {
   "cell_type": "code",
   "execution_count": 23,
   "id": "2f890edd-d559-46d1-ad50-6b281cd45a37",
   "metadata": {},
   "outputs": [],
   "source": [
    "write_abundancelaws(\"/home/raghav/project_sb/sims/HeFrac/testw\",mgheprofdict)"
   ]
  },
  {
   "cell_type": "code",
   "execution_count": 28,
   "id": "dc775387-aa4f-4e94-8fdf-9b707355a3d2",
   "metadata": {
    "editable": true,
    "slideshow": {
     "slide_type": ""
    },
    "tags": []
   },
   "outputs": [],
   "source": [
    "alphaelementlist = ['He','Li','F','Mg']\n",
    "alphadictlists = create_zdicts(alphaelementlist,altitudearray,plawindex=-4)\n",
    "profiles = []\n",
    "for ele in alphaelementlist:\n",
    "    profiles.append(abunprofile(ele,altitudearray,-4))\n",
    "alphaprofdict = create_zarraydict(alphaelementlist,profiles)"
   ]
  },
  {
   "cell_type": "code",
   "execution_count": 29,
   "id": "a60d7072-64a0-428e-98d5-24b744fe36ae",
   "metadata": {},
   "outputs": [],
   "source": [
    "write_abundancelaws(\"/home/raghav/project_sb/sims/HeFrac/alpha\",alphaprofdict)"
   ]
  },
  {
   "cell_type": "code",
   "execution_count": null,
   "id": "5d94b361-0664-4747-8889-ec543cd4bf5f",
   "metadata": {},
   "outputs": [],
   "source": []
  }
 ],
 "metadata": {
  "kernelspec": {
   "display_name": "Python 3 (ipykernel)",
   "language": "python",
   "name": "python3"
  },
  "language_info": {
   "codemirror_mode": {
    "name": "ipython",
    "version": 3
   },
   "file_extension": ".py",
   "mimetype": "text/x-python",
   "name": "python",
   "nbconvert_exporter": "python",
   "pygments_lexer": "ipython3",
   "version": "3.10.12"
  }
 },
 "nbformat": 4,
 "nbformat_minor": 5
}
